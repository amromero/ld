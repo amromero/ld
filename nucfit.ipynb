{
 "cells": [
  {
   "cell_type": "code",
   "execution_count": 4,
   "metadata": {},
   "outputs": [
    {
     "data": {
      "application/vnd.jupyter.widget-view+json": {
       "model_id": "dafaa82fac27490c8874b1f676837133",
       "version_major": 2,
       "version_minor": 0
      },
      "text/plain": [
       "interactive(children=(FloatSlider(value=25.0, description='aV', max=40.0, min=10.0), FloatSlider(value=25.0, d…"
      ]
     },
     "metadata": {},
     "output_type": "display_data"
    }
   ],
   "source": [
    "# %matplotlib inline\n",
    "from ipywidgets import interactive\n",
    "import matplotlib.pyplot as plt\n",
    "import numpy as np\n",
    "\n",
    "#Oxygen\n",
    "Z = 8\n",
    "N = [4, 5, 6, 7, 8, 9, 10, 11, 12, 13, 14, 15, 16, 17, 18]\n",
    "Amass = [i + Z for i in N]\n",
    "BE = [4890.195, 5811.762, 7052.301, 7463.692,7976.206,7750.728,\n",
    "      7767.097, 7566.494, 7568.570, 7389.380, 7364.858, 7163.516,\n",
    "      7039.685, 6727.057, 6494.709]\n",
    "\n",
    "BE = [i/1000 for i in BE] #Energy in MeV\n",
    "\n",
    "\n",
    "def f(aV, aS, aC, aA):\n",
    "    plt.figure(1, figsize=(12,8))\n",
    "    x = np.linspace(10, 26, num=1000)\n",
    "    plt.xlabel('A mass number',fontsize=20)\n",
    "    plt.ylabel('Energy (MeV)',fontsize=20)\n",
    "    plt.title('Oxygen',fontsize=20)\n",
    "    plt.grid(True)\n",
    "    plt.scatter(Amass, BE,c='k')\n",
    "    plt.plot(x, aV * x - aS * x ** (2.0/3) - aC * Z*(Z-1)/x**(1/3) - aA * (x-2*Z)**2/x )\n",
    "    plt.show()\n",
    "\n",
    "interactive_plot = interactive(f, aV=(10.0, 40.0), aS=(10.0, 40.0), aC=(0.0,40.0), aA=(10.0,40.0))\n",
    "output = interactive_plot.children[-1]\n",
    "output.layout.height = '650px'\n",
    "interactive_plot\n",
    "\n"
   ]
  },
  {
   "cell_type": "code",
   "execution_count": null,
   "metadata": {},
   "outputs": [],
   "source": []
  }
 ],
 "metadata": {
  "kernelspec": {
   "display_name": "Python 3",
   "language": "python",
   "name": "python3"
  },
  "language_info": {
   "codemirror_mode": {
    "name": "ipython",
    "version": 3
   },
   "file_extension": ".py",
   "mimetype": "text/x-python",
   "name": "python",
   "nbconvert_exporter": "python",
   "pygments_lexer": "ipython3",
   "version": "3.5.2"
  }
 },
 "nbformat": 4,
 "nbformat_minor": 2
}
